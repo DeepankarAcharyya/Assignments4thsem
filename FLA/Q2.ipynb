{
 "cells": [
  {
   "cell_type": "code",
   "execution_count": 10,
   "metadata": {},
   "outputs": [],
   "source": [
    "#    defining the 6 tuples:\n",
    "#    Q-->finite set of sets\n",
    "#    Sigma-->finite set of input alphabet\n",
    "#    Gamma-->finite set of stack alphabet\n",
    "#    Delta-->transition relation\n",
    "#    Q0-->start state\n",
    "#    Z-->initial stack symbol\n",
    "#    F-->set of accepting states"
   ]
  },
  {
   "cell_type": "code",
   "execution_count": 11,
   "metadata": {},
   "outputs": [],
   "source": [
    "#defining the states:\n",
    "\n",
    "# state 0: starting state\n",
    "\n",
    "#state 1:From state 0 whenever it sees a 1 or 2, it moves to state 1+pushes the element onto the stack\n",
    "#state 1:From state 1 whenever it sees a 1 or 2, it remains in state 1+pushes the element onto the stack\n",
    "\n",
    "#state 2:From state 1 whenever it sees a 0, it moves to state 2+pops from the stack\n",
    "#state 2:From state 1 whenever it sees a 0, it remains in state 2+pops from the stack\n",
    "\n",
    "#state 3:From state 0, if it sees a 0,it moves to state 3,the rejected state\n",
    "#state 3:From state 2, if it sees a 1 or 2 , it moves to state 3, the rejected state\n",
    "#state 3:If at the end, the stack is not empty, it moves to state 3,the rejected state\n",
    "\n"
   ]
  },
  {
   "cell_type": "code",
   "execution_count": 12,
   "metadata": {},
   "outputs": [],
   "source": [
    "#stack functions\n",
    "def push(a,list1):\n",
    "    #pushing to the stack/adding to the top of the stack\n",
    "    list1.append(a)\n",
    "    return 1\n",
    "\n",
    "def pop(list1):\n",
    "    #for poping from the stack/removing the top element of the stack\n",
    "    index=len(list1)-1\n",
    "    if (index>0):\n",
    "        list1.pop(index)\n",
    "        return 1\n",
    "    else:\n",
    "        return 0"
   ]
  },
  {
   "cell_type": "code",
   "execution_count": 13,
   "metadata": {},
   "outputs": [],
   "source": [
    "#    Q={0,1,2,3}\n",
    "#    Sigma={0,1,2}\n",
    "#    Gamma=\n",
    "#    Delta=\n",
    "#    Starting state={0}\n",
    "#    Z=#\n",
    "#    F={2}"
   ]
  },
  {
   "cell_type": "code",
   "execution_count": 4,
   "metadata": {},
   "outputs": [],
   "source": [
    "#setting the initial stack symbol\n",
    "stack=['#']"
   ]
  },
  {
   "cell_type": "code",
   "execution_count": 7,
   "metadata": {},
   "outputs": [
    {
     "name": "stdout",
     "output_type": "stream",
     "text": [
      "Enter the String:Hello\n",
      "H\n",
      "e\n",
      "l\n",
      "l\n",
      "o\n"
     ]
    }
   ],
   "source": [
    "input_string=input('Enter the String:')\n",
    "for letter in input_string:\n",
    "    print(letter)\n",
    "    "
   ]
  },
  {
   "cell_type": "code",
   "execution_count": null,
   "metadata": {},
   "outputs": [],
   "source": []
  }
 ],
 "metadata": {
  "kernelspec": {
   "display_name": "Python 3",
   "language": "python",
   "name": "python3"
  },
  "language_info": {
   "codemirror_mode": {
    "name": "ipython",
    "version": 3
   },
   "file_extension": ".py",
   "mimetype": "text/x-python",
   "name": "python",
   "nbconvert_exporter": "python",
   "pygments_lexer": "ipython3",
   "version": "3.6.4"
  }
 },
 "nbformat": 4,
 "nbformat_minor": 2
}
